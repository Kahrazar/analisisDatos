{
  "nbformat": 4,
  "nbformat_minor": 0,
  "metadata": {
    "colab": {
      "provenance": []
    },
    "kernelspec": {
      "name": "python3",
      "display_name": "Python 3"
    },
    "language_info": {
      "name": "python"
    }
  },
  "cells": [
    {
      "cell_type": "markdown",
      "source": [
        "Trabajo en clase #1\n",
        "\n",
        "Integrantes:\n",
        "\n",
        "\n",
        "*   Ángel Andrés Villalobos Irías\n",
        "*   Diego Alonso Ulate Jara\n",
        "*   Alejandro Largaespada\n",
        "*   Andrey Chacón Gutiérrez\n",
        "\n"
      ],
      "metadata": {
        "id": "FkDyf7_KFfxC"
      }
    },
    {
      "cell_type": "markdown",
      "source": [
        "**CIRCULO**"
      ],
      "metadata": {
        "id": "73MUwTeB_hw7"
      }
    },
    {
      "cell_type": "code",
      "execution_count": null,
      "metadata": {
        "id": "O0ZuqINVU_3C",
        "colab": {
          "base_uri": "https://localhost:8080/"
        },
        "outputId": "4dc7c86e-26e8-453d-819f-aedb71376ae9"
      },
      "outputs": [
        {
          "output_type": "stream",
          "name": "stdout",
          "text": [
            "El area es:  38.48451000647496\n",
            "El perimetro:  21.991148575128552\n"
          ]
        }
      ],
      "source": [
        "import math\n",
        "\n",
        "def calcular_area_circulo(radio):\n",
        "  return math.pi * radio**2\n",
        "\n",
        "def calcular_perimetro_circulo(radio):\n",
        "  return 2*math.pi * radio\n",
        "\n",
        "radio=3.5\n",
        "area=calcular_area_circulo(radio)\n",
        "perimetro=calcular_perimetro_circulo(radio)\n",
        "print(\"El area es: \",area)\n",
        "print(\"El perimetro: \", perimetro)"
      ]
    },
    {
      "cell_type": "markdown",
      "source": [
        "**CUADRADO**"
      ],
      "metadata": {
        "id": "ytKd5Dzm_laa"
      }
    },
    {
      "cell_type": "code",
      "source": [
        "import math\n",
        "def calcular_area_cuadrado(lado):\n",
        "  return lado * lado\n",
        "\n",
        "def calcular_perimetro_cuadrado(lado):\n",
        "  return 4 * lado\n",
        "\n",
        "lado= int(input(\"Digite un valor:\"))\n",
        "area=calcular_area_cuadrado(lado)\n",
        "perimetro=calcular_perimetro_cuadrado(lado)\n",
        "print(\"El area es: \",area)\n",
        "print(\"El perimetro: \", perimetro)"
      ],
      "metadata": {
        "id": "pZwPHOFLSfWt"
      },
      "execution_count": null,
      "outputs": []
    },
    {
      "cell_type": "code",
      "source": [],
      "metadata": {
        "id": "NA8YgD8NuLC3"
      },
      "execution_count": null,
      "outputs": []
    },
    {
      "cell_type": "markdown",
      "source": [
        "**RECTANGULO**"
      ],
      "metadata": {
        "id": "wOl2J5co-tmM"
      }
    },
    {
      "cell_type": "markdown",
      "source": [],
      "metadata": {
        "id": "-oj5qgP2_fI7"
      }
    },
    {
      "cell_type": "code",
      "source": [
        "import math\n",
        "\n",
        "def calcular_area_rectangulo(base, altura):\n",
        "  return base * altura\n",
        "\n",
        "def calcular_perimetro_rectangulo(base, altura):\n",
        "  return 2 * base + 2 * altura\n",
        "\n",
        "base = int(input(\"Digite la base:\"))\n",
        "altura = int(input(\"Digite la altura:\"))\n",
        "area=calcular_area_rectangulo(base, altura)\n",
        "perimetro=calcular_perimetro_rectangulo(base, altura)\n",
        "print(\"El area es: \",area)\n",
        "print(\"El perimetro: \", perimetro)"
      ],
      "metadata": {
        "colab": {
          "base_uri": "https://localhost:8080/"
        },
        "id": "coWLdz7jirJG",
        "outputId": "bcdcd6e2-0f1c-45f0-fb68-820c61e7203d"
      },
      "execution_count": null,
      "outputs": [
        {
          "output_type": "stream",
          "name": "stdout",
          "text": [
            "Digite la base:4\n",
            "Digite la altura:2\n",
            "El area es:  8\n",
            "El perimetro:  12\n"
          ]
        }
      ]
    },
    {
      "cell_type": "markdown",
      "source": [
        "***PARALELOGRAMO***"
      ],
      "metadata": {
        "id": "eAIUluHB-5EU"
      }
    },
    {
      "cell_type": "code",
      "source": [
        "import math\n",
        "\n",
        "def calcular_area_paralelogramo(base, altura):\n",
        "  return base * altura\n",
        "\n",
        "def calcular_perimetro_paralelogramo(lado1, lado2, lado3, lado4):\n",
        "  return lado1+lado2+lado3+lado4\n",
        "\n",
        "base = int(input(\"Digite la base:\"))\n",
        "altura = int(input(\"Digite la altura:\"))\n",
        "\n",
        "lado1 = int(input(\"Digite lado 1:\"))\n",
        "lado2 = int(input(\"Digite lado 2:\"))\n",
        "lado3 = int(input(\"Digite lado 3:\"))\n",
        "lado4 = int(input(\"Digite lado 4:\"))\n",
        "\n",
        "area=calcular_area_paralelogramo(base, altura)\n",
        "perimetro=calcular_perimetro_paralelogramo(lado1, lado2,lado3,lado4)\n",
        "\n",
        "print(\"El area es: \",area)\n",
        "print(\"El perimetro: \", perimetro)\n"
      ],
      "metadata": {
        "id": "KMSi31ZA8xHS",
        "colab": {
          "base_uri": "https://localhost:8080/"
        },
        "outputId": "8ed11587-e88f-41de-bff9-05058f96d119"
      },
      "execution_count": null,
      "outputs": [
        {
          "output_type": "stream",
          "name": "stdout",
          "text": [
            "Digite la base:4\n",
            "Digite la altura:8\n",
            "Digite lado 1:4\n",
            "Digite lado 2:6\n",
            "Digite lado 3:6\n",
            "Digite lado 4:4\n",
            "El area es:  32\n",
            "El perimetro:  20\n"
          ]
        }
      ]
    },
    {
      "cell_type": "markdown",
      "source": [
        "**ROMBO**"
      ],
      "metadata": {
        "id": "twKBGPLN-LgN"
      }
    },
    {
      "cell_type": "code",
      "source": [
        "import math\n",
        "\n",
        "def calcular_area_rombo(diagonalMayor,diagonalMenor):\n",
        "  return diagonalMayor * diagonalMenor/2\n",
        "\n",
        "def calcular_perimetro_rombo(lado1,lado2,lado3,lado4):\n",
        "  return lado1 + lado2 + lado3 + lado4\n",
        "\n",
        "lado1 = int(input(\"Digite el valor del lado 1:\"))\n",
        "lado2 = int(input(\"Digite el valor del lado 2:\"))\n",
        "lado3 = int(input(\"Digite el valor del lado 3:\"))\n",
        "lado4 = int(input(\"Digite el valor del lado 4:\"))\n",
        "\n",
        "diagonalMenor = int(input(\"Digite el valor de la diagonal menor: \"))\n",
        "diagonalMayor = int((input(\"Digite el valor de la diagonal mayor: \")))\n",
        "\n",
        "area = calcular_area_rombo(diagonalMayor, diagonalMenor)\n",
        "perimetro = calcular_perimetro_rombo(lado1,lado2,lado3,lado4)\n",
        "print(\"El area es: \",area)\n",
        "print(\"El perimetro: \", perimetro)"
      ],
      "metadata": {
        "id": "juDmFA7w-I2h"
      },
      "execution_count": null,
      "outputs": []
    },
    {
      "cell_type": "markdown",
      "source": [
        "**TRAPECIO**"
      ],
      "metadata": {
        "id": "u3nwm49A-Zbm"
      }
    },
    {
      "cell_type": "code",
      "source": [
        "import math\n",
        "\n",
        "def calcular_area_trapecio(baseMayor,baseMenor, altura):\n",
        "  return ((baseMayor + baseMenor)/2) * altura\n",
        "\n",
        "def calcular_perimetro_trapecio(lado1,lado2,lado3,lado4):\n",
        "  return lado1 + lado2 + lado3 + lado4\n",
        "\n",
        "lado1 = int(input(\"Digite el valor del lado 1:\"))\n",
        "lado2 = int(input(\"Digite el valor del lado 2:\"))\n",
        "lado3 = int(input(\"Digite el valor del lado 3:\"))\n",
        "lado4 = int(input(\"Digite el valor del lado 4:\"))\n",
        "\n",
        "baseMenor = int(input(\"Digite el valor de la base menor: \"))\n",
        "baseMayor = int(input(\"Digite el valor de la base mayor: \"))\n",
        "altura = int(input(\"Digite el valor de la altura: \"))\n",
        "\n",
        "area = calcular_area_trapecio(baseMayor, baseMenor,altura)\n",
        "perimetro = calcular_perimetro_trapecio(lado1,lado2,lado3,lado4)\n",
        "print(\"El area es: \",area)\n",
        "print(\"El perimetro: \", perimetro)"
      ],
      "metadata": {
        "id": "EuOt7k8j-cIy"
      },
      "execution_count": null,
      "outputs": []
    },
    {
      "cell_type": "markdown",
      "source": [
        "**POLIGONO REGULAR**"
      ],
      "metadata": {
        "id": "i0afjfZf_x58"
      }
    },
    {
      "cell_type": "code",
      "source": [
        "print(\"calculo del poligono regular\")\n",
        "\n",
        "a=int(input(\"ingrese el apotema \"))\n",
        "x=int(input(\"ingrese el tamaño del lado \"))\n",
        "n=int(input(\"ingrese el numero de lados de la figura \"))\n",
        "p= n*x\n",
        "area= (p*a)/2\n",
        "print (\"el area es: \", area)\n",
        "print (\"el perimtro es: \", p)\n",
        "\n"
      ],
      "metadata": {
        "id": "KbSsXdlI_1hr"
      },
      "execution_count": null,
      "outputs": []
    },
    {
      "cell_type": "markdown",
      "source": [
        "**TRIANGULO(General)**"
      ],
      "metadata": {
        "id": "7PAW9M8eF3nS"
      }
    },
    {
      "cell_type": "code",
      "source": [
        "import math\n",
        "\n",
        "def calcular_area_triangulo(base, altura):\n",
        "  return (base * altura)/2\n",
        "\n",
        "def calcular_perimetro_triangulo(lado1, lado2, lado3):\n",
        "  return lado1 + lado2 + lado3\n",
        "\n",
        "lado1 = int(input(\"Digite el valor del lado1: \"))\n",
        "lado2 = int(input(\"Digite el valor del lado2: \"))\n",
        "lado3 = int(input(\"Digite el valor del lado3: \"))\n",
        "perimetro = calcular_perimetro_triangulo(lado1, lado2, lado3)\n",
        "\n",
        "base = int(input(\"Digite la base: \"))\n",
        "altura = int(input(\"Digite la altura: \"))\n",
        "area=calcular_area_triangulo(base, altura)\n",
        "\n",
        "print(\"El area es: \",area)\n",
        "print(\"El perimetro: \", perimetro)"
      ],
      "metadata": {
        "id": "cAdO9_iXF6ea"
      },
      "execution_count": null,
      "outputs": []
    },
    {
      "cell_type": "markdown",
      "source": [
        "**TRIANGULO EQUILATERO**"
      ],
      "metadata": {
        "id": "zX6wqWVjF9F-"
      }
    },
    {
      "cell_type": "code",
      "source": [
        "import math\n",
        "\n",
        "def calcular_area_triangulo_equilatero(x):\n",
        "  return (x**2 * math.sqrt(3))/4\n",
        "\n",
        "def calcular_perimetro_triangulo_equilatero(x):\n",
        "  return 3*x\n",
        "\n",
        "lado = int(input(\"Digite el valor del lado: \"))\n",
        "\n",
        "perimetro = calcular_perimetro_triangulo_equilatero(lado1, lado2, lado3)\n",
        "area=calcular_area_triangulo_equilatero(base, altura)\n",
        "\n",
        "print(\"El area es: \",area)\n",
        "print(\"El perimetro: \", perimetro)"
      ],
      "metadata": {
        "id": "paHxp3OxGA8G"
      },
      "execution_count": null,
      "outputs": []
    }
  ]
}