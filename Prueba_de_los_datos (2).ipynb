{
  "nbformat": 4,
  "nbformat_minor": 0,
  "metadata": {
    "colab": {
      "provenance": []
    },
    "kernelspec": {
      "name": "python3",
      "display_name": "Python 3"
    },
    "language_info": {
      "name": "python"
    }
  },
  "cells": [
    {
      "cell_type": "markdown",
      "source": [
        "# Nombre de los integrantes:\n",
        "*   Ángel Andrés Villalobos Irías\n",
        "*   Alejandro Largaespada\n",
        "*   Diego Alonso Ulate Jara\n",
        "*   Andrey Alberto Chacón Gutiérrez\n"
      ],
      "metadata": {
        "id": "EVKqqbt9Gxfq"
      }
    },
    {
      "cell_type": "markdown",
      "source": [
        "# Tema de investigación:\n",
        "\n",
        "El tema de investigación propuesto se enfoca en analizar las tasas de mortalidad por cáncer a nivel de cantón en el país. Este estudio busca realizar un constraste entre los distintos cantones con el fin de generar información la cuál contribuya al monitoreo del cáncer en el país."
      ],
      "metadata": {
        "id": "4p1QEMhC-19k"
      }
    },
    {
      "cell_type": "markdown",
      "source": [
        "# Fuente de datos:\n",
        "\n",
        "Los datos fueron extraídos del Ministerio de Salud Pública.\n"
      ],
      "metadata": {
        "id": "AgsTewHBCbaI"
      }
    },
    {
      "cell_type": "markdown",
      "source": [
        "# Vínculo:\n",
        "https://www.ministeriodesalud.go.cr/index.php/biblioteca/material-educativo/material-publicado/estadisticas-y-bases-de-datos/estadisticas-y-bases-de-datos-vigilancia-de-la-salud/estadistica-de-cancer-registro-nacional-tumores/mortalidad"
      ],
      "metadata": {
        "id": "oHSXBkHlEUeQ"
      }
    },
    {
      "cell_type": "markdown",
      "source": [
        "# Explicación de las columnas de las tablas:\n",
        "\n",
        "*   **ID**: Es el identificador de cada una de las filas (este se genera por la\n",
        "posición de cada fila de datos)\n",
        "*   **Provincia**: Corresponde a la provincia donde ocurrieron las muertes por casos de cáncer\n",
        "*   **Cantón**: Corresponde al cantón donde ocurrieron las muertes por casos de cáncer\n",
        "*   **Localización**: Corresponde a la ubicación del cáncer padecido por cada uno de los individuos\n",
        "*   **Cantidad**: Corresponde al número de individuos que han padecido el mismo tipo de cáncer, la misma localización, provincia, cantón, año, género.\n",
        "*   **Tasa**: Corresponde al cociente de dividir el número de acontecimientos sucedidos durante un periodo de tiempo (en este caso 2011) por la población existente durante ese periodo.\n",
        "*   **Género**: Corresponde al género de cada uno de los pacientes\n",
        "*   **Año**: Corresponde al año cuando ocurrió la defunción del individuo.\n",
        "*   **Población**: Es el número de personas que se encuentran en el cantón especificado por cada fila (este dato se toma para calcular la tasa)"
      ],
      "metadata": {
        "id": "1a_HJmD2Di4b"
      }
    },
    {
      "cell_type": "code",
      "execution_count": null,
      "metadata": {
        "id": "d5w1_yd7nghE",
        "colab": {
          "base_uri": "https://localhost:8080/"
        },
        "outputId": "c86abf52-1d5e-4a07-ebc4-70b51d7cfbe1"
      },
      "outputs": [
        {
          "output_type": "stream",
          "name": "stdout",
          "text": [
            "        ID Provincia        Canton Localizacion  Poblacion  Cantidad   Tasa  \\\n",
            "0        1  SAN JOSE       CENTRAL     PROSTATA        NaN        42  23.86   \n",
            "1        2  SAN JOSE        ESCAZU     PROSTATA        NaN         4  13.13   \n",
            "2        3  SAN JOSE  DESAMPARADOS     PROSTATA        NaN        21  13.81   \n",
            "3        4  SAN JOSE      PURISCAL     PROSTATA        NaN         5  31.73   \n",
            "4        5  SAN JOSE       TARRAZU     PROSTATA        NaN         0   0.00   \n",
            "...    ...       ...           ...          ...        ...       ...    ...   \n",
            "1615  1616     LIMON        POCOCI       OVARIO    72826.0         1   1.37   \n",
            "1616  1617     LIMON     SIQUIRRES       OVARIO    29042.0         0   0.00   \n",
            "1617  1618     LIMON     TALAMANCA       OVARIO    15943.0         0   0.00   \n",
            "1618  1619     LIMON        MATINA       OVARIO    22584.0         0   0.00   \n",
            "1619  1620     LIMON       GUACIMO       OVARIO    23246.0         1   4.30   \n",
            "\n",
            "      Genero   Año  \n",
            "0     HOMBRE  2011  \n",
            "1     HOMBRE  2011  \n",
            "2     HOMBRE  2011  \n",
            "3     HOMBRE  2011  \n",
            "4     HOMBRE  2011  \n",
            "...      ...   ...  \n",
            "1615   MUJER  2011  \n",
            "1616   MUJER  2011  \n",
            "1617   MUJER  2011  \n",
            "1618   MUJER  2011  \n",
            "1619   MUJER  2011  \n",
            "\n",
            "[1620 rows x 9 columns]\n"
          ]
        }
      ],
      "source": [
        "import pandas as pd\n",
        "import matplotlib.pyplot as plt\n",
        "\n",
        "df=pd.read_csv('datos.csv')\n",
        "data=pd.DataFrame(df)\n",
        "print(data)"
      ]
    },
    {
      "cell_type": "markdown",
      "source": [
        "# **5 instruciones de pandas**"
      ],
      "metadata": {
        "id": "R1PiAGnTQW6g"
      }
    },
    {
      "cell_type": "code",
      "source": [
        "import pandas as pd\n",
        "import matplotlib.pyplot as plt\n",
        "\n",
        "df= pd.read_csv('datos.csv')\n",
        "data=pd.DataFrame(df)\n",
        "print(\"+++++++++ Primera instruccion ++++++++++++\")\n",
        "data.dtypes\n"
      ],
      "metadata": {
        "id": "PF054IALQmFj",
        "colab": {
          "base_uri": "https://localhost:8080/"
        },
        "outputId": "369b471d-e5bd-4f96-f131-f127baef206a"
      },
      "execution_count": null,
      "outputs": [
        {
          "output_type": "stream",
          "name": "stdout",
          "text": [
            "+++++++++ Primera instruccion ++++++++++++\n"
          ]
        },
        {
          "output_type": "execute_result",
          "data": {
            "text/plain": [
              "ID                int64\n",
              "Provincia        object\n",
              "Canton           object\n",
              "Localizacion     object\n",
              "Poblacion       float64\n",
              "Cantidad          int64\n",
              "Tasa            float64\n",
              "Genero           object\n",
              "Año               int64\n",
              "dtype: object"
            ]
          },
          "metadata": {},
          "execution_count": 8
        }
      ]
    },
    {
      "cell_type": "code",
      "source": [
        "import pandas as pd\n",
        "import matplotlib.pyplot as plt\n",
        "\n",
        "df= pd.read_csv('datos.csv')\n",
        "data=pd.DataFrame(df)\n",
        "print(\"+++++++++ Segunda instruccion ++++++++++++\")\n",
        "data.max()"
      ],
      "metadata": {
        "id": "lwLuy2dJQtyU",
        "colab": {
          "base_uri": "https://localhost:8080/"
        },
        "outputId": "b1788b81-c5e7-4f31-c4ec-81b93b95ec21"
      },
      "execution_count": null,
      "outputs": [
        {
          "output_type": "stream",
          "name": "stdout",
          "text": [
            "+++++++++ Segunda instruccion ++++++++++++\n"
          ]
        },
        {
          "output_type": "execute_result",
          "data": {
            "text/plain": [
              "ID                       1620\n",
              "Provincia            SAN JOSE\n",
              "Canton          VALVERDE VEGA\n",
              "Localizacion            RIÑON\n",
              "Poblacion            175893.0\n",
              "Cantidad                   42\n",
              "Tasa                   125.52\n",
              "Genero                  MUJER\n",
              "Año                      2011\n",
              "dtype: object"
            ]
          },
          "metadata": {},
          "execution_count": 9
        }
      ]
    },
    {
      "cell_type": "code",
      "source": [
        "import pandas as pd\n",
        "import matplotlib.pyplot as plt\n",
        "\n",
        "df= pd.read_csv('datos.csv')\n",
        "data=pd.DataFrame(df)\n",
        "print(\"+++++++++ Tercera instruccion ++++++++++++\")\n",
        "\n",
        "df.mean()\n"
      ],
      "metadata": {
        "id": "9yU8RcgyQ6ia",
        "colab": {
          "base_uri": "https://localhost:8080/"
        },
        "outputId": "afe09af3-7477-439e-e05f-4b18a8b432cf"
      },
      "execution_count": null,
      "outputs": [
        {
          "output_type": "stream",
          "name": "stdout",
          "text": [
            "+++++++++ Tercera instruccion ++++++++++++\n"
          ]
        },
        {
          "output_type": "stream",
          "name": "stderr",
          "text": [
            "<ipython-input-10-b45a9b68cd9a>:8: FutureWarning: The default value of numeric_only in DataFrame.mean is deprecated. In a future version, it will default to False. In addition, specifying 'numeric_only=None' is deprecated. Select only valid columns or specify the value of numeric_only to silence this warning.\n",
            "  df.mean()\n"
          ]
        },
        {
          "output_type": "execute_result",
          "data": {
            "text/plain": [
              "ID             810.500000\n",
              "Poblacion    28094.358025\n",
              "Cantidad         1.829012\n",
              "Tasa             6.810278\n",
              "Año           2011.000000\n",
              "dtype: float64"
            ]
          },
          "metadata": {},
          "execution_count": 10
        }
      ]
    },
    {
      "cell_type": "code",
      "source": [
        "import pandas as pd\n",
        "import matplotlib.pyplot as plt\n",
        "\n",
        "df= pd.read_csv('datos.csv')\n",
        "data=pd.DataFrame(df)\n",
        "print(\"+++++++++ Cuarta instruccion ++++++++++++\")\n",
        "df.describe()"
      ],
      "metadata": {
        "id": "rMMD0LQRQ8Qy",
        "colab": {
          "base_uri": "https://localhost:8080/",
          "height": 317
        },
        "outputId": "76d080d3-a702-42d4-ad59-495c71ea7975"
      },
      "execution_count": null,
      "outputs": [
        {
          "output_type": "stream",
          "name": "stdout",
          "text": [
            "+++++++++ Cuarta instruccion ++++++++++++\n"
          ]
        },
        {
          "output_type": "execute_result",
          "data": {
            "text/plain": [
              "                ID      Poblacion     Cantidad         Tasa     Año\n",
              "count  1620.000000     810.000000  1620.000000  1620.000000  1620.0\n",
              "mean    810.500000   28094.358025     1.829012     6.810278  2011.0\n",
              "std     467.798033   31433.430659     3.120163     9.579925     0.0\n",
              "min       1.000000    2206.000000     0.000000     0.000000  2011.0\n",
              "25%     405.750000    9446.000000     0.000000     0.000000  2011.0\n",
              "50%     810.500000   17409.000000     1.000000     3.905000  2011.0\n",
              "75%    1215.250000   30793.000000     2.000000    10.340000  2011.0\n",
              "max    1620.000000  175893.000000    42.000000   125.520000  2011.0"
            ],
            "text/html": [
              "\n",
              "  <div id=\"df-41e33bda-a3a0-4ce2-9226-fdadd53fc667\" class=\"colab-df-container\">\n",
              "    <div>\n",
              "<style scoped>\n",
              "    .dataframe tbody tr th:only-of-type {\n",
              "        vertical-align: middle;\n",
              "    }\n",
              "\n",
              "    .dataframe tbody tr th {\n",
              "        vertical-align: top;\n",
              "    }\n",
              "\n",
              "    .dataframe thead th {\n",
              "        text-align: right;\n",
              "    }\n",
              "</style>\n",
              "<table border=\"1\" class=\"dataframe\">\n",
              "  <thead>\n",
              "    <tr style=\"text-align: right;\">\n",
              "      <th></th>\n",
              "      <th>ID</th>\n",
              "      <th>Poblacion</th>\n",
              "      <th>Cantidad</th>\n",
              "      <th>Tasa</th>\n",
              "      <th>Año</th>\n",
              "    </tr>\n",
              "  </thead>\n",
              "  <tbody>\n",
              "    <tr>\n",
              "      <th>count</th>\n",
              "      <td>1620.000000</td>\n",
              "      <td>810.000000</td>\n",
              "      <td>1620.000000</td>\n",
              "      <td>1620.000000</td>\n",
              "      <td>1620.0</td>\n",
              "    </tr>\n",
              "    <tr>\n",
              "      <th>mean</th>\n",
              "      <td>810.500000</td>\n",
              "      <td>28094.358025</td>\n",
              "      <td>1.829012</td>\n",
              "      <td>6.810278</td>\n",
              "      <td>2011.0</td>\n",
              "    </tr>\n",
              "    <tr>\n",
              "      <th>std</th>\n",
              "      <td>467.798033</td>\n",
              "      <td>31433.430659</td>\n",
              "      <td>3.120163</td>\n",
              "      <td>9.579925</td>\n",
              "      <td>0.0</td>\n",
              "    </tr>\n",
              "    <tr>\n",
              "      <th>min</th>\n",
              "      <td>1.000000</td>\n",
              "      <td>2206.000000</td>\n",
              "      <td>0.000000</td>\n",
              "      <td>0.000000</td>\n",
              "      <td>2011.0</td>\n",
              "    </tr>\n",
              "    <tr>\n",
              "      <th>25%</th>\n",
              "      <td>405.750000</td>\n",
              "      <td>9446.000000</td>\n",
              "      <td>0.000000</td>\n",
              "      <td>0.000000</td>\n",
              "      <td>2011.0</td>\n",
              "    </tr>\n",
              "    <tr>\n",
              "      <th>50%</th>\n",
              "      <td>810.500000</td>\n",
              "      <td>17409.000000</td>\n",
              "      <td>1.000000</td>\n",
              "      <td>3.905000</td>\n",
              "      <td>2011.0</td>\n",
              "    </tr>\n",
              "    <tr>\n",
              "      <th>75%</th>\n",
              "      <td>1215.250000</td>\n",
              "      <td>30793.000000</td>\n",
              "      <td>2.000000</td>\n",
              "      <td>10.340000</td>\n",
              "      <td>2011.0</td>\n",
              "    </tr>\n",
              "    <tr>\n",
              "      <th>max</th>\n",
              "      <td>1620.000000</td>\n",
              "      <td>175893.000000</td>\n",
              "      <td>42.000000</td>\n",
              "      <td>125.520000</td>\n",
              "      <td>2011.0</td>\n",
              "    </tr>\n",
              "  </tbody>\n",
              "</table>\n",
              "</div>\n",
              "    <div class=\"colab-df-buttons\">\n",
              "\n",
              "  <div class=\"colab-df-container\">\n",
              "    <button class=\"colab-df-convert\" onclick=\"convertToInteractive('df-41e33bda-a3a0-4ce2-9226-fdadd53fc667')\"\n",
              "            title=\"Convert this dataframe to an interactive table.\"\n",
              "            style=\"display:none;\">\n",
              "\n",
              "  <svg xmlns=\"http://www.w3.org/2000/svg\" height=\"24px\" viewBox=\"0 -960 960 960\">\n",
              "    <path d=\"M120-120v-720h720v720H120Zm60-500h600v-160H180v160Zm220 220h160v-160H400v160Zm0 220h160v-160H400v160ZM180-400h160v-160H180v160Zm440 0h160v-160H620v160ZM180-180h160v-160H180v160Zm440 0h160v-160H620v160Z\"/>\n",
              "  </svg>\n",
              "    </button>\n",
              "\n",
              "  <style>\n",
              "    .colab-df-container {\n",
              "      display:flex;\n",
              "      gap: 12px;\n",
              "    }\n",
              "\n",
              "    .colab-df-convert {\n",
              "      background-color: #E8F0FE;\n",
              "      border: none;\n",
              "      border-radius: 50%;\n",
              "      cursor: pointer;\n",
              "      display: none;\n",
              "      fill: #1967D2;\n",
              "      height: 32px;\n",
              "      padding: 0 0 0 0;\n",
              "      width: 32px;\n",
              "    }\n",
              "\n",
              "    .colab-df-convert:hover {\n",
              "      background-color: #E2EBFA;\n",
              "      box-shadow: 0px 1px 2px rgba(60, 64, 67, 0.3), 0px 1px 3px 1px rgba(60, 64, 67, 0.15);\n",
              "      fill: #174EA6;\n",
              "    }\n",
              "\n",
              "    .colab-df-buttons div {\n",
              "      margin-bottom: 4px;\n",
              "    }\n",
              "\n",
              "    [theme=dark] .colab-df-convert {\n",
              "      background-color: #3B4455;\n",
              "      fill: #D2E3FC;\n",
              "    }\n",
              "\n",
              "    [theme=dark] .colab-df-convert:hover {\n",
              "      background-color: #434B5C;\n",
              "      box-shadow: 0px 1px 3px 1px rgba(0, 0, 0, 0.15);\n",
              "      filter: drop-shadow(0px 1px 2px rgba(0, 0, 0, 0.3));\n",
              "      fill: #FFFFFF;\n",
              "    }\n",
              "  </style>\n",
              "\n",
              "    <script>\n",
              "      const buttonEl =\n",
              "        document.querySelector('#df-41e33bda-a3a0-4ce2-9226-fdadd53fc667 button.colab-df-convert');\n",
              "      buttonEl.style.display =\n",
              "        google.colab.kernel.accessAllowed ? 'block' : 'none';\n",
              "\n",
              "      async function convertToInteractive(key) {\n",
              "        const element = document.querySelector('#df-41e33bda-a3a0-4ce2-9226-fdadd53fc667');\n",
              "        const dataTable =\n",
              "          await google.colab.kernel.invokeFunction('convertToInteractive',\n",
              "                                                    [key], {});\n",
              "        if (!dataTable) return;\n",
              "\n",
              "        const docLinkHtml = 'Like what you see? Visit the ' +\n",
              "          '<a target=\"_blank\" href=https://colab.research.google.com/notebooks/data_table.ipynb>data table notebook</a>'\n",
              "          + ' to learn more about interactive tables.';\n",
              "        element.innerHTML = '';\n",
              "        dataTable['output_type'] = 'display_data';\n",
              "        await google.colab.output.renderOutput(dataTable, element);\n",
              "        const docLink = document.createElement('div');\n",
              "        docLink.innerHTML = docLinkHtml;\n",
              "        element.appendChild(docLink);\n",
              "      }\n",
              "    </script>\n",
              "  </div>\n",
              "\n",
              "\n",
              "<div id=\"df-a0a71f86-7d34-4324-8e0d-28602546dfb4\">\n",
              "  <button class=\"colab-df-quickchart\" onclick=\"quickchart('df-a0a71f86-7d34-4324-8e0d-28602546dfb4')\"\n",
              "            title=\"Suggest charts\"\n",
              "            style=\"display:none;\">\n",
              "\n",
              "<svg xmlns=\"http://www.w3.org/2000/svg\" height=\"24px\"viewBox=\"0 0 24 24\"\n",
              "     width=\"24px\">\n",
              "    <g>\n",
              "        <path d=\"M19 3H5c-1.1 0-2 .9-2 2v14c0 1.1.9 2 2 2h14c1.1 0 2-.9 2-2V5c0-1.1-.9-2-2-2zM9 17H7v-7h2v7zm4 0h-2V7h2v10zm4 0h-2v-4h2v4z\"/>\n",
              "    </g>\n",
              "</svg>\n",
              "  </button>\n",
              "\n",
              "<style>\n",
              "  .colab-df-quickchart {\n",
              "      --bg-color: #E8F0FE;\n",
              "      --fill-color: #1967D2;\n",
              "      --hover-bg-color: #E2EBFA;\n",
              "      --hover-fill-color: #174EA6;\n",
              "      --disabled-fill-color: #AAA;\n",
              "      --disabled-bg-color: #DDD;\n",
              "  }\n",
              "\n",
              "  [theme=dark] .colab-df-quickchart {\n",
              "      --bg-color: #3B4455;\n",
              "      --fill-color: #D2E3FC;\n",
              "      --hover-bg-color: #434B5C;\n",
              "      --hover-fill-color: #FFFFFF;\n",
              "      --disabled-bg-color: #3B4455;\n",
              "      --disabled-fill-color: #666;\n",
              "  }\n",
              "\n",
              "  .colab-df-quickchart {\n",
              "    background-color: var(--bg-color);\n",
              "    border: none;\n",
              "    border-radius: 50%;\n",
              "    cursor: pointer;\n",
              "    display: none;\n",
              "    fill: var(--fill-color);\n",
              "    height: 32px;\n",
              "    padding: 0;\n",
              "    width: 32px;\n",
              "  }\n",
              "\n",
              "  .colab-df-quickchart:hover {\n",
              "    background-color: var(--hover-bg-color);\n",
              "    box-shadow: 0 1px 2px rgba(60, 64, 67, 0.3), 0 1px 3px 1px rgba(60, 64, 67, 0.15);\n",
              "    fill: var(--button-hover-fill-color);\n",
              "  }\n",
              "\n",
              "  .colab-df-quickchart-complete:disabled,\n",
              "  .colab-df-quickchart-complete:disabled:hover {\n",
              "    background-color: var(--disabled-bg-color);\n",
              "    fill: var(--disabled-fill-color);\n",
              "    box-shadow: none;\n",
              "  }\n",
              "\n",
              "  .colab-df-spinner {\n",
              "    border: 2px solid var(--fill-color);\n",
              "    border-color: transparent;\n",
              "    border-bottom-color: var(--fill-color);\n",
              "    animation:\n",
              "      spin 1s steps(1) infinite;\n",
              "  }\n",
              "\n",
              "  @keyframes spin {\n",
              "    0% {\n",
              "      border-color: transparent;\n",
              "      border-bottom-color: var(--fill-color);\n",
              "      border-left-color: var(--fill-color);\n",
              "    }\n",
              "    20% {\n",
              "      border-color: transparent;\n",
              "      border-left-color: var(--fill-color);\n",
              "      border-top-color: var(--fill-color);\n",
              "    }\n",
              "    30% {\n",
              "      border-color: transparent;\n",
              "      border-left-color: var(--fill-color);\n",
              "      border-top-color: var(--fill-color);\n",
              "      border-right-color: var(--fill-color);\n",
              "    }\n",
              "    40% {\n",
              "      border-color: transparent;\n",
              "      border-right-color: var(--fill-color);\n",
              "      border-top-color: var(--fill-color);\n",
              "    }\n",
              "    60% {\n",
              "      border-color: transparent;\n",
              "      border-right-color: var(--fill-color);\n",
              "    }\n",
              "    80% {\n",
              "      border-color: transparent;\n",
              "      border-right-color: var(--fill-color);\n",
              "      border-bottom-color: var(--fill-color);\n",
              "    }\n",
              "    90% {\n",
              "      border-color: transparent;\n",
              "      border-bottom-color: var(--fill-color);\n",
              "    }\n",
              "  }\n",
              "</style>\n",
              "\n",
              "  <script>\n",
              "    async function quickchart(key) {\n",
              "      const quickchartButtonEl =\n",
              "        document.querySelector('#' + key + ' button');\n",
              "      quickchartButtonEl.disabled = true;  // To prevent multiple clicks.\n",
              "      quickchartButtonEl.classList.add('colab-df-spinner');\n",
              "      try {\n",
              "        const charts = await google.colab.kernel.invokeFunction(\n",
              "            'suggestCharts', [key], {});\n",
              "      } catch (error) {\n",
              "        console.error('Error during call to suggestCharts:', error);\n",
              "      }\n",
              "      quickchartButtonEl.classList.remove('colab-df-spinner');\n",
              "      quickchartButtonEl.classList.add('colab-df-quickchart-complete');\n",
              "    }\n",
              "    (() => {\n",
              "      let quickchartButtonEl =\n",
              "        document.querySelector('#df-a0a71f86-7d34-4324-8e0d-28602546dfb4 button');\n",
              "      quickchartButtonEl.style.display =\n",
              "        google.colab.kernel.accessAllowed ? 'block' : 'none';\n",
              "    })();\n",
              "  </script>\n",
              "</div>\n",
              "    </div>\n",
              "  </div>\n"
            ],
            "application/vnd.google.colaboratory.intrinsic+json": {
              "type": "dataframe",
              "summary": "{\n  \"name\": \"df\",\n  \"rows\": 8,\n  \"fields\": [\n    {\n      \"column\": \"ID\",\n      \"properties\": {\n        \"dtype\": \"number\",\n        \"std\": 583.5510704126935,\n        \"min\": 1.0,\n        \"max\": 1620.0,\n        \"num_unique_values\": 6,\n        \"samples\": [\n          1620.0,\n          810.5,\n          1215.25\n        ],\n        \"semantic_type\": \"\",\n        \"description\": \"\"\n      }\n    },\n    {\n      \"column\": \"Poblacion\",\n      \"properties\": {\n        \"dtype\": \"number\",\n        \"std\": 57449.92513432842,\n        \"min\": 810.0,\n        \"max\": 175893.0,\n        \"num_unique_values\": 8,\n        \"samples\": [\n          28094.35802469136,\n          17409.0,\n          810.0\n        ],\n        \"semantic_type\": \"\",\n        \"description\": \"\"\n      }\n    },\n    {\n      \"column\": \"Cantidad\",\n      \"properties\": {\n        \"dtype\": \"number\",\n        \"std\": 570.4122318656911,\n        \"min\": 0.0,\n        \"max\": 1620.0,\n        \"num_unique_values\": 7,\n        \"samples\": [\n          1620.0,\n          1.8290123456790124,\n          2.0\n        ],\n        \"semantic_type\": \"\",\n        \"description\": \"\"\n      }\n    },\n    {\n      \"column\": \"Tasa\",\n      \"properties\": {\n        \"dtype\": \"number\",\n        \"std\": 566.4519493837803,\n        \"min\": 0.0,\n        \"max\": 1620.0,\n        \"num_unique_values\": 7,\n        \"samples\": [\n          1620.0,\n          6.810277777777777,\n          10.34\n        ],\n        \"semantic_type\": \"\",\n        \"description\": \"\"\n      }\n    },\n    {\n      \"column\": \"A\\u00f1o\",\n      \"properties\": {\n        \"dtype\": \"number\",\n        \"std\": 704.6581237937809,\n        \"min\": 0.0,\n        \"max\": 2011.0,\n        \"num_unique_values\": 3,\n        \"samples\": [\n          1620.0,\n          2011.0,\n          0.0\n        ],\n        \"semantic_type\": \"\",\n        \"description\": \"\"\n      }\n    }\n  ]\n}"
            }
          },
          "metadata": {},
          "execution_count": 11
        }
      ]
    },
    {
      "cell_type": "code",
      "source": [
        "import pandas as pd\n",
        "import matplotlib.pyplot as plt\n",
        "\n",
        "df= pd.read_csv('datos.csv')\n",
        "data=pd.DataFrame(df)\n",
        "print(\"+++++++++ Quinta instruccion ++++++++++++\")\n",
        "df.iloc[3]"
      ],
      "metadata": {
        "id": "9P__zzU8Q_Pq",
        "colab": {
          "base_uri": "https://localhost:8080/"
        },
        "outputId": "0fb23ce0-797e-4382-8b8f-f21601e69ae8"
      },
      "execution_count": null,
      "outputs": [
        {
          "output_type": "stream",
          "name": "stdout",
          "text": [
            "+++++++++ Quinta instruccion ++++++++++++\n"
          ]
        },
        {
          "output_type": "execute_result",
          "data": {
            "text/plain": [
              "ID                     4\n",
              "Provincia       SAN JOSE\n",
              "Canton          PURISCAL\n",
              "Localizacion    PROSTATA\n",
              "Poblacion            NaN\n",
              "Cantidad               5\n",
              "Tasa               31.73\n",
              "Genero            HOMBRE\n",
              "Año                 2011\n",
              "Name: 3, dtype: object"
            ]
          },
          "metadata": {},
          "execution_count": 12
        }
      ]
    }
  ]
}